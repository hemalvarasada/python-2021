{
 "cells": [
  {
   "cell_type": "markdown",
   "id": "8f972a92",
   "metadata": {},
   "source": [
    "##### 1. What does an empty dictionary&#39;s code look like?"
   ]
  },
  {
   "cell_type": "code",
   "execution_count": 1,
   "id": "cff61512",
   "metadata": {},
   "outputs": [
    {
     "data": {
      "text/plain": [
       "dict"
      ]
     },
     "execution_count": 1,
     "metadata": {},
     "output_type": "execute_result"
    }
   ],
   "source": [
    "d = {}\n",
    "type(d)"
   ]
  },
  {
   "cell_type": "markdown",
   "id": "1f1798cc",
   "metadata": {},
   "source": [
    "##### 2. What is the value of a dictionary value with the key &#39;foo&#39; and the value 42?\n"
   ]
  },
  {
   "cell_type": "code",
   "execution_count": 2,
   "id": "6a6ec827",
   "metadata": {},
   "outputs": [
    {
     "data": {
      "text/plain": [
       "dict_values([42])"
      ]
     },
     "execution_count": 2,
     "metadata": {},
     "output_type": "execute_result"
    }
   ],
   "source": [
    "a = {'foo' : 42}\n",
    "a.values()"
   ]
  },
  {
   "cell_type": "markdown",
   "id": "ed86d4ab",
   "metadata": {},
   "source": [
    "##### 3. What is the most significant distinction between a dictionary and a list?"
   ]
  },
  {
   "cell_type": "code",
   "execution_count": 3,
   "id": "23385ca7",
   "metadata": {},
   "outputs": [],
   "source": [
    "# list is ordered sequence of objects, whereas dictionaries are unordered sets.\n",
    "# list items can be accessed by the position whereas dictionaries are accessed by keys not via positions"
   ]
  },
  {
   "cell_type": "markdown",
   "id": "69ca7aa0",
   "metadata": {},
   "source": [
    "##### 4. What happens if you try to access spam[&#39;foo&#39;] if spam is {&#39;bar&#39;: 100}?"
   ]
  },
  {
   "cell_type": "code",
   "execution_count": 4,
   "id": "6649d08c",
   "metadata": {},
   "outputs": [],
   "source": [
    "spam = {'bar' : 100}  # it will give an error"
   ]
  },
  {
   "cell_type": "code",
   "execution_count": 5,
   "id": "e663346e",
   "metadata": {},
   "outputs": [
    {
     "ename": "KeyError",
     "evalue": "'foo'",
     "output_type": "error",
     "traceback": [
      "\u001b[1;31m---------------------------------------------------------------------------\u001b[0m",
      "\u001b[1;31mKeyError\u001b[0m                                  Traceback (most recent call last)",
      "\u001b[1;32mC:\\Users\\HEMAL~1.VAR\\AppData\\Local\\Temp/ipykernel_15880/3999281786.py\u001b[0m in \u001b[0;36m<module>\u001b[1;34m\u001b[0m\n\u001b[1;32m----> 1\u001b[1;33m \u001b[0mspam\u001b[0m\u001b[1;33m[\u001b[0m\u001b[1;34m'foo'\u001b[0m\u001b[1;33m]\u001b[0m\u001b[1;33m\u001b[0m\u001b[1;33m\u001b[0m\u001b[0m\n\u001b[0m",
      "\u001b[1;31mKeyError\u001b[0m: 'foo'"
     ]
    }
   ],
   "source": [
    "spam['foo']"
   ]
  },
  {
   "cell_type": "markdown",
   "id": "3cce6545",
   "metadata": {},
   "source": [
    "##### 5. If a dictionary is stored in spam, what is the difference between the expressions &#39;cat&#39; in spam and &#39;cat&#39; in spam.keys()?"
   ]
  },
  {
   "cell_type": "code",
   "execution_count": 6,
   "id": "e5b6bf7f",
   "metadata": {},
   "outputs": [],
   "source": [
    "spam = {'cat' : 43}"
   ]
  },
  {
   "cell_type": "code",
   "execution_count": 7,
   "id": "58707b9a",
   "metadata": {},
   "outputs": [
    {
     "data": {
      "text/plain": [
       "{'cat': 43}"
      ]
     },
     "execution_count": 7,
     "metadata": {},
     "output_type": "execute_result"
    }
   ],
   "source": [
    "spam"
   ]
  },
  {
   "cell_type": "code",
   "execution_count": 8,
   "id": "e13e7e6c",
   "metadata": {},
   "outputs": [
    {
     "data": {
      "text/plain": [
       "True"
      ]
     },
     "execution_count": 8,
     "metadata": {},
     "output_type": "execute_result"
    }
   ],
   "source": [
    "'cat' in spam # it will check in the keys only"
   ]
  },
  {
   "cell_type": "code",
   "execution_count": 9,
   "id": "c46f1882",
   "metadata": {},
   "outputs": [
    {
     "data": {
      "text/plain": [
       "True"
      ]
     },
     "execution_count": 9,
     "metadata": {},
     "output_type": "execute_result"
    }
   ],
   "source": [
    "'cat' in spam.keys()  "
   ]
  },
  {
   "cell_type": "markdown",
   "id": "ea7b34ff",
   "metadata": {},
   "source": [
    "##### 6. If a dictionary is stored in spam, what is the difference between the expressions &#39;cat&#39; in spam and &#39;cat&#39; in spam.values()?"
   ]
  },
  {
   "cell_type": "code",
   "execution_count": 10,
   "id": "e225a2fd",
   "metadata": {},
   "outputs": [],
   "source": [
    "spam = {'van' : 'cat'}"
   ]
  },
  {
   "cell_type": "code",
   "execution_count": 11,
   "id": "94fd29e3",
   "metadata": {},
   "outputs": [
    {
     "data": {
      "text/plain": [
       "{'van': 'cat'}"
      ]
     },
     "execution_count": 11,
     "metadata": {},
     "output_type": "execute_result"
    }
   ],
   "source": [
    "spam"
   ]
  },
  {
   "cell_type": "code",
   "execution_count": 12,
   "id": "a0b40cd9",
   "metadata": {},
   "outputs": [
    {
     "data": {
      "text/plain": [
       "False"
      ]
     },
     "execution_count": 12,
     "metadata": {},
     "output_type": "execute_result"
    }
   ],
   "source": [
    "'cat' in spam # it will check in the keys only"
   ]
  },
  {
   "cell_type": "code",
   "execution_count": 13,
   "id": "01635dc2",
   "metadata": {},
   "outputs": [
    {
     "data": {
      "text/plain": [
       "True"
      ]
     },
     "execution_count": 13,
     "metadata": {},
     "output_type": "execute_result"
    }
   ],
   "source": [
    "'cat' in spam.values()"
   ]
  },
  {
   "cell_type": "markdown",
   "id": "606214df",
   "metadata": {},
   "source": [
    "##### 7. What is a shortcut for the following code?   if &#39;color&#39; not in spam:     spam[&#39;color&#39;] = &#39;black&#39;"
   ]
  },
  {
   "cell_type": "code",
   "execution_count": 15,
   "id": "d081e8b5",
   "metadata": {},
   "outputs": [
    {
     "data": {
      "text/plain": [
       "'black'"
      ]
     },
     "execution_count": 15,
     "metadata": {},
     "output_type": "execute_result"
    }
   ],
   "source": [
    "spam = {'name' : 'deen', 'age' : 23}\n",
    "spam.setdefault('color','black')"
   ]
  },
  {
   "cell_type": "code",
   "execution_count": 16,
   "id": "6e26e9f5",
   "metadata": {},
   "outputs": [
    {
     "data": {
      "text/plain": [
       "{'name': 'deen', 'age': 23, 'color': 'black'}"
      ]
     },
     "execution_count": 16,
     "metadata": {},
     "output_type": "execute_result"
    }
   ],
   "source": [
    "spam"
   ]
  },
  {
   "cell_type": "markdown",
   "id": "8fa6d4af",
   "metadata": {},
   "source": [
    "##### 8. How do you &quot;pretty print&quot; dictionary values using which module and function?"
   ]
  },
  {
   "cell_type": "code",
   "execution_count": 18,
   "id": "356ed48e",
   "metadata": {},
   "outputs": [
    {
     "data": {
      "text/plain": [
       "'pprint() is a Python module that provides the capability to pretty print Python data types to be more readable. This module also supports pretty-printing dictionary.'"
      ]
     },
     "execution_count": 18,
     "metadata": {},
     "output_type": "execute_result"
    }
   ],
   "source": [
    "\"\"\"pprint() is a Python module that provides the capability to pretty print Python data types to be more readable. This module also supports pretty-printing dictionary.\"\"\""
   ]
  },
  {
   "cell_type": "code",
   "execution_count": null,
   "id": "aea5ca0f",
   "metadata": {},
   "outputs": [],
   "source": []
  }
 ],
 "metadata": {
  "kernelspec": {
   "display_name": "Python 3 (ipykernel)",
   "language": "python",
   "name": "python3"
  },
  "language_info": {
   "codemirror_mode": {
    "name": "ipython",
    "version": 3
   },
   "file_extension": ".py",
   "mimetype": "text/x-python",
   "name": "python",
   "nbconvert_exporter": "python",
   "pygments_lexer": "ipython3",
   "version": "3.9.7"
  }
 },
 "nbformat": 4,
 "nbformat_minor": 5
}
