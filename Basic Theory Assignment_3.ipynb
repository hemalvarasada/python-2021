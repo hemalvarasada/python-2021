{
 "cells": [
  {
   "cell_type": "markdown",
   "id": "06b8de34",
   "metadata": {},
   "source": [
    "##### 1. Why are functions advantageous to have in your programs?"
   ]
  },
  {
   "cell_type": "code",
   "execution_count": 6,
   "id": "95aad357",
   "metadata": {},
   "outputs": [
    {
     "data": {
      "text/plain": [
       "\" Function reduce the need for duplicate code. This makes programs shorter, easier to read and update. we can use function whenver we call it we don't need to write it again and again.\""
      ]
     },
     "execution_count": 6,
     "metadata": {},
     "output_type": "execute_result"
    }
   ],
   "source": [
    "\"\"\" Function reduce the need for duplicate code. This makes programs shorter, easier to read and update. we can use function whenver we call it we don't need to write it again and again.\"\"\""
   ]
  },
  {
   "cell_type": "markdown",
   "id": "f082641b",
   "metadata": {},
   "source": [
    "##### 2. When does the code in a function run: when it&#39;s specified or when it&#39;s called?"
   ]
  },
  {
   "cell_type": "code",
   "execution_count": 5,
   "id": "0770671c",
   "metadata": {},
   "outputs": [
    {
     "data": {
      "text/plain": [
       "'When a function is \"called\" the program leaves the current section of code and begins to execute the first line inside the function.'"
      ]
     },
     "execution_count": 5,
     "metadata": {},
     "output_type": "execute_result"
    }
   ],
   "source": [
    "\"\"\"When a function is \"called\" the program leaves the current section of code and begins to execute the first line inside the function.\"\"\""
   ]
  },
  {
   "cell_type": "markdown",
   "id": "78bab80c",
   "metadata": {},
   "source": [
    "##### 3. What statement creates a function?"
   ]
  },
  {
   "cell_type": "code",
   "execution_count": 4,
   "id": "30f9d646",
   "metadata": {},
   "outputs": [
    {
     "data": {
      "text/plain": [
       "'The “def” keyword is a statement for defining a function in Python. You start a function with the def keyword, specify a name followed by a colon (:) sign. The “def” call creates the function object and assigns it to the name given. You can further re-assign the same function object to other names.'"
      ]
     },
     "execution_count": 4,
     "metadata": {},
     "output_type": "execute_result"
    }
   ],
   "source": [
    "\"\"\"The “def” keyword is a statement for defining a function in Python. You start a function with the def keyword, specify a name followed by a colon (:) sign. The “def” call creates the function object and assigns it to the name given. You can further re-assign the same function object to other names.\"\"\""
   ]
  },
  {
   "cell_type": "markdown",
   "id": "5790f185",
   "metadata": {},
   "source": [
    "##### 4. What is the difference between a function and a function call?"
   ]
  },
  {
   "cell_type": "code",
   "execution_count": 3,
   "id": "147584df",
   "metadata": {},
   "outputs": [
    {
     "data": {
      "text/plain": [
       "'A function call means invoking or calling that function. Unless a function is called there is no use of that function. So the difference between the function and function call is, A function is procedure to achieve a particular result while function call is using this function to achive that task'"
      ]
     },
     "execution_count": 3,
     "metadata": {},
     "output_type": "execute_result"
    }
   ],
   "source": [
    "\"\"\"A function call means invoking or calling that function. Unless a function is called there is no use of that function. So the difference between the function and function call is, A function is procedure to achieve a particular result while function call is using this function to achive that task\"\"\""
   ]
  },
  {
   "cell_type": "markdown",
   "id": "fa0906a2",
   "metadata": {},
   "source": [
    "##### 5. How many global scopes are there in a Python program? How many local scopes?"
   ]
  },
  {
   "cell_type": "code",
   "execution_count": 14,
   "id": "31e2a669",
   "metadata": {},
   "outputs": [
    {
     "data": {
      "text/plain": [
       "\"There's only one global Python scope per program execution. while there is no limit for the local scope\""
      ]
     },
     "execution_count": 14,
     "metadata": {},
     "output_type": "execute_result"
    }
   ],
   "source": [
    "\"\"\"There's only one global Python scope per program execution. while there is no limit for the local scope\"\"\""
   ]
  },
  {
   "cell_type": "markdown",
   "id": "382d5f34",
   "metadata": {},
   "source": [
    "##### 6. What happens to variables in a local scope when the function call returns?"
   ]
  },
  {
   "cell_type": "code",
   "execution_count": 2,
   "id": "76149dae",
   "metadata": {},
   "outputs": [
    {
     "data": {
      "text/plain": [
       "'When the execution of the function terminates (returns), the local variables are destroyed. Codelens helps you visualize this because the local variables disappear after the function returns.'"
      ]
     },
     "execution_count": 2,
     "metadata": {},
     "output_type": "execute_result"
    }
   ],
   "source": [
    "\"\"\"When the execution of the function terminates (returns), the local variables are destroyed. Codelens helps you visualize this because the local variables disappear after the function returns.\"\"\""
   ]
  },
  {
   "cell_type": "markdown",
   "id": "25d66e1c",
   "metadata": {},
   "source": [
    "##### 7. What is the concept of a return value? Is it possible to have a return value in an expression?\n"
   ]
  },
  {
   "cell_type": "code",
   "execution_count": 1,
   "id": "81913c0e",
   "metadata": {},
   "outputs": [
    {
     "data": {
      "text/plain": [
       "'A return statement is used to end the execution of the function call and “returns” the result (value of the expression following the return keyword) to the caller. The statements after the return statements are not executed. If the return statement is without any expression, then the special value None is returned.'"
      ]
     },
     "execution_count": 1,
     "metadata": {},
     "output_type": "execute_result"
    }
   ],
   "source": [
    "\"\"\"A return statement is used to end the execution of the function call and “returns” the result (value of the expression following the return keyword) to the caller. The statements after the return statements are not executed. If the return statement is without any expression, then the special value None is returned.\"\"\""
   ]
  },
  {
   "cell_type": "markdown",
   "id": "28eafd41",
   "metadata": {},
   "source": [
    "##### 8. If a function does not have a return statement, what is the return value of a call to that function?"
   ]
  },
  {
   "cell_type": "code",
   "execution_count": 7,
   "id": "d89938fa",
   "metadata": {},
   "outputs": [
    {
     "data": {
      "text/plain": [
       "\"If a function doesn't specify a return value, it returns None .\""
      ]
     },
     "execution_count": 7,
     "metadata": {},
     "output_type": "execute_result"
    }
   ],
   "source": [
    "\"\"\"If a function doesn't specify a return value, it returns None .\"\"\""
   ]
  },
  {
   "cell_type": "markdown",
   "id": "8ea752db",
   "metadata": {},
   "source": [
    "##### 9. How do you make a function variable refer to the global variable?"
   ]
  },
  {
   "cell_type": "code",
   "execution_count": 8,
   "id": "b325def6",
   "metadata": {},
   "outputs": [
    {
     "data": {
      "text/plain": [
       "'If you want to refer to a global variable in a function, you can use the global keyword to declare which variables are global.'"
      ]
     },
     "execution_count": 8,
     "metadata": {},
     "output_type": "execute_result"
    }
   ],
   "source": [
    "\"\"\"If you want to refer to a global variable in a function, you can use the global keyword to declare which variables are global.\"\"\""
   ]
  },
  {
   "cell_type": "markdown",
   "id": "f3d9173a",
   "metadata": {},
   "source": [
    "##### 10. What is the data type of None?\n"
   ]
  },
  {
   "cell_type": "code",
   "execution_count": 9,
   "id": "351658e8",
   "metadata": {},
   "outputs": [
    {
     "data": {
      "text/plain": [
       "'None is used to define a null value. It is not the same as an empty string, False, or a zero. It is a data type of the class NoneType object. Assigning a value of None to a variable is one way to reset it to its original, empty state.'"
      ]
     },
     "execution_count": 9,
     "metadata": {},
     "output_type": "execute_result"
    }
   ],
   "source": [
    "\"\"\"None is used to define a null value. It is not the same as an empty string, False, or a zero. It is a data type of the class NoneType object. Assigning a value of None to a variable is one way to reset it to its original, empty state.\"\"\""
   ]
  },
  {
   "cell_type": "markdown",
   "id": "5cc400c4",
   "metadata": {},
   "source": [
    "##### 11. What does the sentence import areallyourpetsnamederic do?"
   ]
  },
  {
   "cell_type": "code",
   "execution_count": 10,
   "id": "5b0652ce",
   "metadata": {},
   "outputs": [
    {
     "data": {
      "text/plain": [
       "'That import statement imports a module named areallyourpetsnamederic.'"
      ]
     },
     "execution_count": 10,
     "metadata": {},
     "output_type": "execute_result"
    }
   ],
   "source": [
    "\"\"\"That import statement imports a module named areallyourpetsnamederic.\"\"\""
   ]
  },
  {
   "cell_type": "markdown",
   "id": "6f3805cc",
   "metadata": {},
   "source": [
    "##### 12. If you had a bacon() feature in a spam module, what would you call it after importing spam?"
   ]
  },
  {
   "cell_type": "code",
   "execution_count": 11,
   "id": "143df55f",
   "metadata": {},
   "outputs": [
    {
     "data": {
      "text/plain": [
       "'This function can be called with spam. bacon().'"
      ]
     },
     "execution_count": 11,
     "metadata": {},
     "output_type": "execute_result"
    }
   ],
   "source": [
    "\"\"\"This function can be called with spam. bacon().\"\"\""
   ]
  },
  {
   "cell_type": "markdown",
   "id": "d0295fcd",
   "metadata": {},
   "source": [
    "##### 13. What can you do to save a programme from crashing if it encounters an error?"
   ]
  },
  {
   "cell_type": "code",
   "execution_count": 12,
   "id": "f86b65c9",
   "metadata": {},
   "outputs": [
    {
     "data": {
      "text/plain": [
       "'Try and except statements are used to catch and handle exceptions in Python. Statements that can raise exceptions are kept inside the try clause and the statements that handle the exception are written inside except clause.'"
      ]
     },
     "execution_count": 12,
     "metadata": {},
     "output_type": "execute_result"
    }
   ],
   "source": [
    "\"\"\"Try and except statements are used to catch and handle exceptions in Python. Statements that can raise exceptions are kept inside the try clause and the statements that handle the exception are written inside except clause.\"\"\""
   ]
  },
  {
   "cell_type": "markdown",
   "id": "5bc9dfde",
   "metadata": {},
   "source": [
    "##### 14. What is the purpose of the try clause? What is the purpose of the except clause?"
   ]
  },
  {
   "cell_type": "code",
   "execution_count": 13,
   "id": "540c04ce",
   "metadata": {},
   "outputs": [
    {
     "data": {
      "text/plain": [
       "'The try block allows you to test a block of code for errors. The except block enables you to handle the error with a user-defined response.'"
      ]
     },
     "execution_count": 13,
     "metadata": {},
     "output_type": "execute_result"
    }
   ],
   "source": [
    "\"\"\"The try block allows you to test a block of code for errors. The except block enables you to handle the error with a user-defined response.\"\"\""
   ]
  },
  {
   "cell_type": "code",
   "execution_count": null,
   "id": "90bf5fa6",
   "metadata": {},
   "outputs": [],
   "source": []
  }
 ],
 "metadata": {
  "kernelspec": {
   "display_name": "Python 3 (ipykernel)",
   "language": "python",
   "name": "python3"
  },
  "language_info": {
   "codemirror_mode": {
    "name": "ipython",
    "version": 3
   },
   "file_extension": ".py",
   "mimetype": "text/x-python",
   "name": "python",
   "nbconvert_exporter": "python",
   "pygments_lexer": "ipython3",
   "version": "3.9.7"
  }
 },
 "nbformat": 4,
 "nbformat_minor": 5
}
