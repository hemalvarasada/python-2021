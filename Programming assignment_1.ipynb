{
 "cells": [
  {
   "cell_type": "markdown",
   "id": "9c9afd38",
   "metadata": {},
   "source": [
    "##### 1. Write a Python program to print \"Hello Python\"?"
   ]
  },
  {
   "cell_type": "code",
   "execution_count": 1,
   "id": "4dbbabe3",
   "metadata": {},
   "outputs": [
    {
     "name": "stdout",
     "output_type": "stream",
     "text": [
      "Hello Python\n"
     ]
    }
   ],
   "source": [
    "print(\"Hello Python\")"
   ]
  },
  {
   "cell_type": "markdown",
   "id": "9b0d798b",
   "metadata": {},
   "source": [
    "##### 2. Write a Python program to do arithmetical operations addition and division.?"
   ]
  },
  {
   "cell_type": "code",
   "execution_count": 5,
   "id": "b635aacf",
   "metadata": {},
   "outputs": [
    {
     "name": "stdout",
     "output_type": "stream",
     "text": [
      "Please enter 1st number: 50\n",
      "Please enter 2nd numner: 25\n",
      "addition of these two numbers:  75\n",
      "division of these two numbers:  2.0\n"
     ]
    }
   ],
   "source": [
    "a=int(input(\"Please enter 1st number: \"))\n",
    "b=int(input(\"Please enter 2nd numner: \"))\n",
    "print(\"addition of these two numbers: \",a+b)\n",
    "print(\"division of these two numbers: \",a/b)"
   ]
  },
  {
   "cell_type": "markdown",
   "id": "8f7b22b8",
   "metadata": {},
   "source": [
    "##### 3. Write a Python program to find the area of a triangle?"
   ]
  },
  {
   "cell_type": "code",
   "execution_count": 11,
   "id": "bffbb6bf",
   "metadata": {},
   "outputs": [
    {
     "name": "stdout",
     "output_type": "stream",
     "text": [
      "please enter length of 1st side:  5\n",
      "please enter length of 2nd side:  12\n",
      "please enter length of 3rd side:  13\n",
      "area of the triangle is:   30.0\n"
     ]
    }
   ],
   "source": [
    "a=int(input(\"please enter length of 1st side:  \"))\n",
    "b=int(input(\"please enter length of 2nd side:  \"))\n",
    "c=int(input(\"please enter length of 3rd side:  \"))\n",
    "s=(a+b+c)/2\n",
    "area=(s*(s-a)*(s-b)*(s-c))**.5\n",
    "print(\"area of the triangle is:  \",area)"
   ]
  },
  {
   "cell_type": "markdown",
   "id": "4863d70d",
   "metadata": {},
   "source": [
    "##### 4. Write a Python program to swap two variables?"
   ]
  },
  {
   "cell_type": "code",
   "execution_count": 14,
   "id": "f47a780d",
   "metadata": {},
   "outputs": [
    {
     "name": "stdout",
     "output_type": "stream",
     "text": [
      "value of x after swap:  10\n",
      "value of y after swap:  3\n"
     ]
    }
   ],
   "source": [
    "x=3\n",
    "y=10\n",
    "temp=x\n",
    "x=y\n",
    "y=temp\n",
    "print(\"value of x after swap: \",x)\n",
    "print(\"value of y after swap: \",y)"
   ]
  },
  {
   "cell_type": "markdown",
   "id": "2188ee26",
   "metadata": {},
   "source": [
    "##### 5. Write a Python program to generate a random number?"
   ]
  },
  {
   "cell_type": "code",
   "execution_count": 16,
   "id": "27dc3285",
   "metadata": {},
   "outputs": [],
   "source": [
    "import random"
   ]
  },
  {
   "cell_type": "code",
   "execution_count": 17,
   "id": "d56acdd7",
   "metadata": {},
   "outputs": [
    {
     "name": "stdout",
     "output_type": "stream",
     "text": [
      "453\n"
     ]
    }
   ],
   "source": [
    "print(random.randrange(1,1000))"
   ]
  },
  {
   "cell_type": "code",
   "execution_count": null,
   "id": "228d7385",
   "metadata": {},
   "outputs": [],
   "source": []
  }
 ],
 "metadata": {
  "kernelspec": {
   "display_name": "Python 3 (ipykernel)",
   "language": "python",
   "name": "python3"
  },
  "language_info": {
   "codemirror_mode": {
    "name": "ipython",
    "version": 3
   },
   "file_extension": ".py",
   "mimetype": "text/x-python",
   "name": "python",
   "nbconvert_exporter": "python",
   "pygments_lexer": "ipython3",
   "version": "3.9.7"
  }
 },
 "nbformat": 4,
 "nbformat_minor": 5
}
