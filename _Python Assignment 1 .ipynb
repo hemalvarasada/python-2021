{
 "cells": [
  {
   "cell_type": "markdown",
   "id": "ad80be88",
   "metadata": {},
   "source": [
    "# Assignment 1"
   ]
  },
  {
   "cell_type": "markdown",
   "id": "a14441b5",
   "metadata": {},
   "source": [
    "##### Question 1-In the below elements which of them are values or an expression? eg:- values can be integer or string and expressions will be mathematical operators."
   ]
  },
  {
   "cell_type": "code",
   "execution_count": null,
   "id": "87e58f7b",
   "metadata": {},
   "outputs": [],
   "source": [
    "'''\n",
    "*       # Mathematical Operator\n",
    "'hello' # String\n",
    "-87.8   # Float\n",
    "-       # Mathematical Operator\n",
    "/       # Mathematical Operator\n",
    "+       # Mathematical Operator\n",
    "6       # Integer'''"
   ]
  },
  {
   "cell_type": "markdown",
   "id": "c531a7c1",
   "metadata": {},
   "source": [
    "##### Question 2 -What is the difference between string and variable?"
   ]
  },
  {
   "cell_type": "markdown",
   "id": "830660d9",
   "metadata": {},
   "source": [
    " A variable is basically the name of the location in the primary memory in the computer. A variable can store value of everything. Whereas a string is the value represented inside quotes."
   ]
  },
  {
   "cell_type": "markdown",
   "id": "ee347778",
   "metadata": {},
   "source": [
    "##### Question 3-Describe three different data types."
   ]
  },
  {
   "cell_type": "code",
   "execution_count": null,
   "id": "09c7834c",
   "metadata": {},
   "outputs": [],
   "source": [
    "'''\n",
    "int - integer data type ex- 1,24,-3,54 \n",
    "str - String data type ex-\"hemal\",\"ineuron\"(str data type represented in either single or double quotes)\n",
    "float - Float data type ex-24.21,45.56\n",
    "bool - Bollean data type ex- True,False\n",
    "complex- Complex data type ex- a+bj'''"
   ]
  },
  {
   "cell_type": "markdown",
   "id": "f34ea372",
   "metadata": {},
   "source": [
    "##### Question 4-What is an expression made up of? What do all expressions do?"
   ]
  },
  {
   "cell_type": "markdown",
   "id": "f8978a24",
   "metadata": {},
   "source": [
    "An expression is a combination of values, variables, operators, and calls to functions.Expressions need to be evaluated. If you ask Python to print an expression, the interpreter evaluates the expression and displays the result."
   ]
  },
  {
   "cell_type": "markdown",
   "id": "f2ea4464",
   "metadata": {},
   "source": [
    "##### Question 5-This assignment statements, like spam = 10. What is the difference between an expression and a statement?"
   ]
  },
  {
   "cell_type": "markdown",
   "id": "411f24a2",
   "metadata": {},
   "source": [
    "Expression is made up of values, containers, and mathematical operators and the statement is just like a command that a python interpreter executes like print."
   ]
  },
  {
   "cell_type": "markdown",
   "id": "4aac1e58",
   "metadata": {},
   "source": [
    "##### Question 6-After running the following code, what does the variable bacon contain?"
   ]
  },
  {
   "cell_type": "code",
   "execution_count": 2,
   "id": "57eec80c",
   "metadata": {},
   "outputs": [
    {
     "data": {
      "text/plain": [
       "23"
      ]
     },
     "execution_count": 2,
     "metadata": {},
     "output_type": "execute_result"
    }
   ],
   "source": [
    "becon = 22 #intial value\n",
    "becon + 1  # increse by +1"
   ]
  },
  {
   "cell_type": "markdown",
   "id": "75d5a4a9",
   "metadata": {},
   "source": [
    "##### Question 7-What should the values of the following two terms be?"
   ]
  },
  {
   "cell_type": "code",
   "execution_count": 1,
   "id": "6694714e",
   "metadata": {},
   "outputs": [
    {
     "data": {
      "text/plain": [
       "'spamspamspam'"
      ]
     },
     "execution_count": 1,
     "metadata": {},
     "output_type": "execute_result"
    }
   ],
   "source": [
    "'spam' + 'spamspam' #concatination of strings"
   ]
  },
  {
   "cell_type": "code",
   "execution_count": 2,
   "id": "a17fc483",
   "metadata": {},
   "outputs": [
    {
     "data": {
      "text/plain": [
       "'spamspamspam'"
      ]
     },
     "execution_count": 2,
     "metadata": {},
     "output_type": "execute_result"
    }
   ],
   "source": [
    "'spam' * 3 #replication of string"
   ]
  },
  {
   "cell_type": "markdown",
   "id": "a4fa72ab",
   "metadata": {},
   "source": [
    "##### Question 8- Why is eggs a valid variable name while 100 is invalid?"
   ]
  },
  {
   "cell_type": "markdown",
   "id": "b70ddbe0",
   "metadata": {},
   "source": [
    " Variable names cannot begin with a number, variable name can be string or alphabet. that is why eggs is a valid and 100 is invalid variable name."
   ]
  },
  {
   "cell_type": "markdown",
   "id": "15408726",
   "metadata": {},
   "source": [
    "##### Question 9-What three functions can be used to get the integer, floating-point number, or string version of a value?"
   ]
  },
  {
   "cell_type": "markdown",
   "id": "8007d802",
   "metadata": {},
   "source": [
    "The int() , float() , and str( ) functions will evaluate to the integer, floating-point number, and string versions of the value passed to them."
   ]
  },
  {
   "cell_type": "markdown",
   "id": "58ddc012",
   "metadata": {},
   "source": [
    "##### Question 10-Why does this expression cause an error? How can you fix it?"
   ]
  },
  {
   "cell_type": "markdown",
   "id": "852a813a",
   "metadata": {},
   "source": [
    "\"An expression is a combination of values and operators. The expression causes an error because 99 is an integer, and only strings can be concatenated to other strings with the + operator. The correct way is I have eaten ' + str(99) + ' burritos.\""
   ]
  },
  {
   "cell_type": "code",
   "execution_count": null,
   "id": "39864082",
   "metadata": {},
   "outputs": [],
   "source": []
  }
 ],
 "metadata": {
  "kernelspec": {
   "display_name": "Python 3 (ipykernel)",
   "language": "python",
   "name": "python3"
  },
  "language_info": {
   "codemirror_mode": {
    "name": "ipython",
    "version": 3
   },
   "file_extension": ".py",
   "mimetype": "text/x-python",
   "name": "python",
   "nbconvert_exporter": "python",
   "pygments_lexer": "ipython3",
   "version": "3.9.7"
  }
 },
 "nbformat": 4,
 "nbformat_minor": 5
}
