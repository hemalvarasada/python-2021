{
 "cells": [
  {
   "cell_type": "markdown",
   "id": "649b8816",
   "metadata": {},
   "source": [
    "##### 1. Write a Python Program to Find LCM?"
   ]
  },
  {
   "cell_type": "code",
   "execution_count": 4,
   "id": "fee0de5e",
   "metadata": {},
   "outputs": [
    {
     "name": "stdout",
     "output_type": "stream",
     "text": [
      "enter first number: 12\n",
      "enter second number: 15\n",
      "The L.C.M. is 60\n"
     ]
    }
   ],
   "source": [
    "def compute_lcm(x, y):\n",
    "    if x > y:\n",
    "       greater = x\n",
    "    else:\n",
    "       greater = y\n",
    "\n",
    "    while(True):\n",
    "        if((greater % x == 0) and (greater % y == 0)):\n",
    "            lcm = greater\n",
    "            break\n",
    "        greater += 1\n",
    "\n",
    "    return lcm\n",
    "\n",
    "num1 = int(input(\"enter first number: \"))\n",
    "num2 = int(input(\"enter second number: \"))\n",
    "\n",
    "print(\"The L.C.M. is\", compute_lcm(num1, num2))"
   ]
  },
  {
   "cell_type": "markdown",
   "id": "33d8b1bd",
   "metadata": {},
   "source": [
    "##### 2. Write a Python Program to Find HCF?"
   ]
  },
  {
   "cell_type": "code",
   "execution_count": 5,
   "id": "e74df7f5",
   "metadata": {},
   "outputs": [
    {
     "name": "stdout",
     "output_type": "stream",
     "text": [
      "enter first number : 35\n",
      "enter second number: 77\n",
      "The H.C.F. is 7\n"
     ]
    }
   ],
   "source": [
    "def compute_hcf(x, y):\n",
    "    if x > y:\n",
    "        smaller = y\n",
    "    else:\n",
    "        smaller = x\n",
    "    for i in range(1, smaller+1):\n",
    "        if((x % i == 0) and (y % i == 0)):\n",
    "            hcf = i \n",
    "    return hcf\n",
    "\n",
    "num1 = int(input(\"enter first number : \"))\n",
    "num2 = int(input(\"enter second number: \"))\n",
    "\n",
    "print(\"The H.C.F. is\", compute_hcf(num1, num2))"
   ]
  },
  {
   "cell_type": "markdown",
   "id": "d2f56354",
   "metadata": {},
   "source": [
    "##### 3. Write a Python Program to Convert Decimal to Binary, Octal and Hexadecimal?"
   ]
  },
  {
   "cell_type": "code",
   "execution_count": 6,
   "id": "888ec766",
   "metadata": {},
   "outputs": [
    {
     "name": "stdout",
     "output_type": "stream",
     "text": [
      "please enter value : 522\n",
      "0b1000001010 in binary\n",
      "0o1012 in octal\n",
      "0x20a in hexadecimal\n"
     ]
    }
   ],
   "source": [
    "a = int(input(\"please enter value : \"))\n",
    "\n",
    "print(bin(a), \"in binary\")\n",
    "print(oct(a), \"in octal\")\n",
    "print(hex(a), \"in hexadecimal\")"
   ]
  },
  {
   "cell_type": "markdown",
   "id": "faf38c27",
   "metadata": {},
   "source": [
    "##### 4. Write a Python Program To Find ASCII value of a character?"
   ]
  },
  {
   "cell_type": "code",
   "execution_count": 7,
   "id": "df00d227",
   "metadata": {},
   "outputs": [
    {
     "name": "stdout",
     "output_type": "stream",
     "text": [
      "enter a character : f\n",
      "The ASCII Value is  102\n"
     ]
    }
   ],
   "source": [
    "a = input(\"enter a character : \")\n",
    "print(\"The ASCII Value is \", ord(a))"
   ]
  },
  {
   "cell_type": "markdown",
   "id": "b712c76d",
   "metadata": {},
   "source": [
    "##### 5. Write a Python Program to Make a Simple Calculator with 4 basic mathematical operations?"
   ]
  },
  {
   "cell_type": "code",
   "execution_count": 9,
   "id": "f2e5116a",
   "metadata": {},
   "outputs": [
    {
     "name": "stdout",
     "output_type": "stream",
     "text": [
      "enter first number 12\n",
      "enter second number64\n",
      "Please enter the operation number :\n",
      "1 --> addition\n",
      "2 -->subtraction\n",
      "3 -->muktiplication\n",
      "4-->division\n",
      "2\n",
      "12 - 64 = -52\n",
      "do you want to perform more operation yes / no ?yes\n",
      "enter first number 88\n",
      "enter second number11\n",
      "Please enter the operation number :\n",
      "1 --> addition\n",
      "2 -->subtraction\n",
      "3 -->muktiplication\n",
      "4-->division\n",
      "4\n",
      "88 / 11 = 8.0\n",
      "do you want to perform more operation yes / no ?no\n",
      "Have a good day\n"
     ]
    }
   ],
   "source": [
    "def add(a,b):\n",
    "    return a + b\n",
    "def sub(a,b) :\n",
    "    return a - b\n",
    "def mul(a,b) :\n",
    "    return a * b\n",
    "def div(a,b) :\n",
    "    return a / b\n",
    "\n",
    "while True :\n",
    "    a = int(input(\"enter first number \"))\n",
    "    b = int(input(\"enter second number\"))\n",
    "    print(\"Please enter the operation number :\")\n",
    "    print(\"1 --> addition\")\n",
    "    print(\"2 -->subtraction\")\n",
    "    print(\"3 -->muktiplication\")\n",
    "    print(\"4-->division\")\n",
    "    c = int(input())\n",
    "\n",
    "    if c == 1 :\n",
    "        print(a, \"+\", b ,\"=\", add(a,b))\n",
    "    elif c == 2 :\n",
    "        print(a, \"-\", b ,\"=\", sub(a,b))\n",
    "    elif c == 3 :\n",
    "        print(a, \"*\", b ,\"=\", mul(a,b))\n",
    "    elif c == 4 :\n",
    "        print(a, \"/\", b ,\"=\", div(a,b))\n",
    "    else :\n",
    "        print(\"invalid input\")\n",
    "    d = input(\"do you want to perform more operation yes / no ?:  \")\n",
    "    if d == \"yes\" :\n",
    "        continue\n",
    "    else :\n",
    "        print(\"Have a good day\")\n",
    "        break\n"
   ]
  },
  {
   "cell_type": "code",
   "execution_count": null,
   "id": "ff8b3173",
   "metadata": {},
   "outputs": [],
   "source": []
  }
 ],
 "metadata": {
  "kernelspec": {
   "display_name": "Python 3 (ipykernel)",
   "language": "python",
   "name": "python3"
  },
  "language_info": {
   "codemirror_mode": {
    "name": "ipython",
    "version": 3
   },
   "file_extension": ".py",
   "mimetype": "text/x-python",
   "name": "python",
   "nbconvert_exporter": "python",
   "pygments_lexer": "ipython3",
   "version": "3.9.7"
  }
 },
 "nbformat": 4,
 "nbformat_minor": 5
}
