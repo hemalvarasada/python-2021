{
 "cells": [
  {
   "cell_type": "markdown",
   "id": "d9bfc241",
   "metadata": {},
   "source": [
    "##### 1. Write a Python Program to Find the Factorial of a Number?"
   ]
  },
  {
   "cell_type": "code",
   "execution_count": 4,
   "id": "fd25ff70",
   "metadata": {},
   "outputs": [
    {
     "name": "stdout",
     "output_type": "stream",
     "text": [
      "Please enter number : 7\n",
      "factorial of 7 is 5040\n"
     ]
    }
   ],
   "source": [
    "a = int(input(\"Please enter number : \"))\n",
    "fact =1 \n",
    "for i in range(1,a+1):\n",
    "    fact = fact * i\n",
    "print(\"factorial of {} is {}\".format(a,fact))"
   ]
  },
  {
   "cell_type": "markdown",
   "id": "df24a719",
   "metadata": {},
   "source": [
    "##### 2. Write a Python Program to Display the multiplication Table?"
   ]
  },
  {
   "cell_type": "code",
   "execution_count": 5,
   "id": "1f97eb4f",
   "metadata": {},
   "outputs": [
    {
     "name": "stdout",
     "output_type": "stream",
     "text": [
      "Multiplication table of :  14\n",
      "14  * 1  = 14\n",
      "14  * 2  = 28\n",
      "14  * 3  = 42\n",
      "14  * 4  = 56\n",
      "14  * 5  = 70\n",
      "14  * 6  = 84\n",
      "14  * 7  = 98\n",
      "14  * 8  = 112\n",
      "14  * 9  = 126\n",
      "14  * 10  = 140\n"
     ]
    }
   ],
   "source": [
    "a = int(input(\"Multiplication table of :  \"))\n",
    "for i in range(1,11):\n",
    "    print(a, \" *\",i , \" =\",a*i)"
   ]
  },
  {
   "cell_type": "markdown",
   "id": "0d65e14d",
   "metadata": {},
   "source": [
    "##### 3. Write a Python Program to Print the Fibonacci sequence?"
   ]
  },
  {
   "cell_type": "code",
   "execution_count": 1,
   "id": "ece35399",
   "metadata": {},
   "outputs": [
    {
     "name": "stdout",
     "output_type": "stream",
     "text": [
      "the number of terms you want is :  7\n",
      "0\n",
      "1\n",
      "1\n",
      "2\n",
      "3\n",
      "5\n",
      "8\n"
     ]
    }
   ],
   "source": [
    "n1,n2,count = 0,1,0\n",
    "n = int(input(\"the number of terms you want is :  \"))\n",
    "while count < n :\n",
    "    print(n1)\n",
    "    b = n1 + n2\n",
    "    n1 = n2\n",
    "    n2 = b\n",
    "    count +=1"
   ]
  },
  {
   "cell_type": "markdown",
   "id": "df626314",
   "metadata": {},
   "source": [
    "##### 4. Write a Python Program to Check Armstrong Number?"
   ]
  },
  {
   "cell_type": "code",
   "execution_count": 2,
   "id": "b5a11a0e",
   "metadata": {},
   "outputs": [
    {
     "name": "stdout",
     "output_type": "stream",
     "text": [
      "enter a three digit number :  407\n",
      " 407 is armstrong number\n"
     ]
    }
   ],
   "source": [
    "a = int(input(\"enter a three digit number :  \"))\n",
    "sum = 0 \n",
    "temp = a\n",
    "while temp > 0:\n",
    "    d = temp % 10 \n",
    "    sum += d ** 3\n",
    "    temp //= 10\n",
    "if a == sum :\n",
    "    print(\" {} is armstrong number\".format(a))\n",
    "else :\n",
    "    print(\" {} is not armstrong number \".format(a))"
   ]
  },
  {
   "cell_type": "markdown",
   "id": "5e8195fc",
   "metadata": {},
   "source": [
    "##### 5. Write a Python Program to Find Armstrong Number in an Interval?"
   ]
  },
  {
   "cell_type": "code",
   "execution_count": 3,
   "id": "f543e699",
   "metadata": {},
   "outputs": [
    {
     "name": "stdout",
     "output_type": "stream",
     "text": [
      "please enter starting number :100\n",
      "please enter ending number : 15484\n",
      "153\n",
      "370\n",
      "371\n",
      "407\n",
      "1634\n",
      "8208\n",
      "9474\n"
     ]
    }
   ],
   "source": [
    "a = int(input(\"please enter starting number :\"))\n",
    "b =int(input(\"please enter ending number : \"))\n",
    "for i in range(a,b+1):\n",
    "    order = len(str(i))\n",
    "    sum = 0\n",
    "    temp = i\n",
    "    while temp > 0:\n",
    "        d = temp % 10\n",
    "        sum += d **order\n",
    "        temp //= 10\n",
    "    if i == sum :\n",
    "        print(i)\n",
    "    "
   ]
  },
  {
   "cell_type": "markdown",
   "id": "79267e4e",
   "metadata": {},
   "source": [
    "##### 6. Write a Python Program to Find the Sum of Natural Numbers?"
   ]
  },
  {
   "cell_type": "code",
   "execution_count": 4,
   "id": "47ed834c",
   "metadata": {},
   "outputs": [
    {
     "name": "stdout",
     "output_type": "stream",
     "text": [
      "please enter a natural number:  10\n",
      "sum of 10  natural number is :  55.0\n"
     ]
    }
   ],
   "source": [
    "a = int(input(\"please enter a natural number:  \"))\n",
    "print(\"sum of {}  natural number is : \".format(a),(a*(a+1))/2)"
   ]
  },
  {
   "cell_type": "code",
   "execution_count": null,
   "id": "37413b5c",
   "metadata": {},
   "outputs": [],
   "source": []
  }
 ],
 "metadata": {
  "kernelspec": {
   "display_name": "Python 3 (ipykernel)",
   "language": "python",
   "name": "python3"
  },
  "language_info": {
   "codemirror_mode": {
    "name": "ipython",
    "version": 3
   },
   "file_extension": ".py",
   "mimetype": "text/x-python",
   "name": "python",
   "nbconvert_exporter": "python",
   "pygments_lexer": "ipython3",
   "version": "3.9.7"
  }
 },
 "nbformat": 4,
 "nbformat_minor": 5
}
