{
 "cells": [
  {
   "cell_type": "markdown",
   "id": "118a2a9c",
   "metadata": {},
   "source": [
    "##### 1. What exactly is []?"
   ]
  },
  {
   "cell_type": "code",
   "execution_count": 2,
   "id": "8ed84a4c",
   "metadata": {},
   "outputs": [],
   "source": [
    "# '[]' is use to represet the list. we can store various types of data inside list and perform various operation on them."
   ]
  },
  {
   "cell_type": "markdown",
   "id": "e63acfb1",
   "metadata": {},
   "source": [
    "##### 2. In a list of values stored in a variable called spam, how would you assign the value &#39;hello&#39; as the third value? (Assume [2, 4, 6, 8, 10] are in spam.)"
   ]
  },
  {
   "cell_type": "code",
   "execution_count": 3,
   "id": "08c151c7",
   "metadata": {},
   "outputs": [],
   "source": [
    "spam = [2,4,6,8,10]\n",
    "spam.insert(2,\"hello\")"
   ]
  },
  {
   "cell_type": "code",
   "execution_count": 4,
   "id": "24738e0e",
   "metadata": {},
   "outputs": [
    {
     "data": {
      "text/plain": [
       "[2, 4, 'hello', 6, 8, 10]"
      ]
     },
     "execution_count": 4,
     "metadata": {},
     "output_type": "execute_result"
    }
   ],
   "source": [
    "spam"
   ]
  },
  {
   "cell_type": "markdown",
   "id": "654c5dbc",
   "metadata": {},
   "source": [
    "### Let&#39;s pretend the spam includes the list [&#39;a&#39;, &#39;b&#39;, &#39;c&#39;, &#39;d&#39;] for the next three queries."
   ]
  },
  {
   "cell_type": "markdown",
   "id": "a92f6bf3",
   "metadata": {},
   "source": [
    "##### 3. What is the value of spam[int(int(&#39;3&#39; * 2) / 11)]?"
   ]
  },
  {
   "cell_type": "code",
   "execution_count": 5,
   "id": "2da20c5f",
   "metadata": {},
   "outputs": [],
   "source": [
    "spam = ['a','b','c','d']\n"
   ]
  },
  {
   "cell_type": "code",
   "execution_count": 6,
   "id": "3acf4e3a",
   "metadata": {},
   "outputs": [
    {
     "data": {
      "text/plain": [
       "'d'"
      ]
     },
     "execution_count": 6,
     "metadata": {},
     "output_type": "execute_result"
    }
   ],
   "source": [
    "spam[int(int('3' * 2)/11)]"
   ]
  },
  {
   "cell_type": "markdown",
   "id": "32d89dae",
   "metadata": {},
   "source": [
    "##### 4. What is the value of spam[-1]?"
   ]
  },
  {
   "cell_type": "code",
   "execution_count": 7,
   "id": "e200040d",
   "metadata": {},
   "outputs": [
    {
     "data": {
      "text/plain": [
       "'d'"
      ]
     },
     "execution_count": 7,
     "metadata": {},
     "output_type": "execute_result"
    }
   ],
   "source": [
    "spam[-1]"
   ]
  },
  {
   "cell_type": "markdown",
   "id": "c4dd0ad7",
   "metadata": {},
   "source": [
    "##### 5. What is the value of spam[:2]?"
   ]
  },
  {
   "cell_type": "code",
   "execution_count": 8,
   "id": "67d35e57",
   "metadata": {},
   "outputs": [
    {
     "data": {
      "text/plain": [
       "['a', 'b']"
      ]
     },
     "execution_count": 8,
     "metadata": {},
     "output_type": "execute_result"
    }
   ],
   "source": [
    "spam[:2]"
   ]
  },
  {
   "cell_type": "markdown",
   "id": "a8556b92",
   "metadata": {},
   "source": [
    "### Let&#39;s pretend bacon has the list [3.14, &#39;cat,&#39; 11, &#39;cat,&#39; True] for the next three questions."
   ]
  },
  {
   "cell_type": "markdown",
   "id": "403e665a",
   "metadata": {},
   "source": [
    "##### 6. What is the value of bacon.index(&#39;cat&#39;)?"
   ]
  },
  {
   "cell_type": "code",
   "execution_count": 10,
   "id": "5b329479",
   "metadata": {},
   "outputs": [],
   "source": [
    "bacon = [3.14,'cat',11,'cat',True]"
   ]
  },
  {
   "cell_type": "code",
   "execution_count": 11,
   "id": "5a0fde8b",
   "metadata": {},
   "outputs": [
    {
     "data": {
      "text/plain": [
       "1"
      ]
     },
     "execution_count": 11,
     "metadata": {},
     "output_type": "execute_result"
    }
   ],
   "source": [
    "bacon.index('cat')  # it will give first ocuurance."
   ]
  },
  {
   "cell_type": "markdown",
   "id": "ac52e268",
   "metadata": {},
   "source": [
    "##### 7. How does bacon.append(99) change the look of the list value in bacon?"
   ]
  },
  {
   "cell_type": "code",
   "execution_count": 12,
   "id": "eb64adf5",
   "metadata": {},
   "outputs": [],
   "source": [
    "bacon.append(99)   # it will append it at the tail position"
   ]
  },
  {
   "cell_type": "code",
   "execution_count": 13,
   "id": "6fcbee77",
   "metadata": {},
   "outputs": [
    {
     "data": {
      "text/plain": [
       "[3.14, 'cat', 11, 'cat', True, 99]"
      ]
     },
     "execution_count": 13,
     "metadata": {},
     "output_type": "execute_result"
    }
   ],
   "source": [
    "bacon"
   ]
  },
  {
   "cell_type": "markdown",
   "id": "f3caf8cd",
   "metadata": {},
   "source": [
    "##### 8. How does bacon.remove(&#39;cat&#39;) change the look of the list in bacon?"
   ]
  },
  {
   "cell_type": "code",
   "execution_count": 14,
   "id": "71738dc0",
   "metadata": {},
   "outputs": [],
   "source": [
    "bacon.remove('cat')   # it will remove first occurance of the give value"
   ]
  },
  {
   "cell_type": "code",
   "execution_count": 15,
   "id": "6f7873c3",
   "metadata": {},
   "outputs": [
    {
     "data": {
      "text/plain": [
       "[3.14, 11, 'cat', True, 99]"
      ]
     },
     "execution_count": 15,
     "metadata": {},
     "output_type": "execute_result"
    }
   ],
   "source": [
    "bacon"
   ]
  },
  {
   "cell_type": "markdown",
   "id": "e15514d3",
   "metadata": {},
   "source": [
    "##### 9. What are the list concatenation and list replication operators?"
   ]
  },
  {
   "cell_type": "code",
   "execution_count": 16,
   "id": "8b53a431",
   "metadata": {},
   "outputs": [
    {
     "name": "stdout",
     "output_type": "stream",
     "text": [
      "[1, 2, 3, 4, 5, 6, 7, 8, 9, 10]\n"
     ]
    }
   ],
   "source": [
    "# in list concatenation we can add lists together. \n",
    "l = [1,2,3,4,5]\n",
    "l1= [6,7,8,9,10]\n",
    "print(l + l1)"
   ]
  },
  {
   "cell_type": "code",
   "execution_count": 17,
   "id": "b6cec18c",
   "metadata": {},
   "outputs": [
    {
     "name": "stdout",
     "output_type": "stream",
     "text": [
      "[1, 2, 3, 4, 5, 1, 2, 3, 4, 5, 1, 2, 3, 4, 5]\n"
     ]
    }
   ],
   "source": [
    "# in list replication we can repeat elements in the list\n",
    "print(l * 3)"
   ]
  },
  {
   "cell_type": "markdown",
   "id": "57eafecf",
   "metadata": {},
   "source": [
    "##### 10. What is difference between the list methods append() and insert()?"
   ]
  },
  {
   "cell_type": "code",
   "execution_count": 18,
   "id": "ed293fd0",
   "metadata": {},
   "outputs": [],
   "source": [
    "# append() add new element at the tail position always\n",
    "# insert() add new element at the input given by the user "
   ]
  },
  {
   "cell_type": "code",
   "execution_count": 19,
   "id": "f67834af",
   "metadata": {},
   "outputs": [
    {
     "data": {
      "text/plain": [
       "[1, 2, 3, 4, 5]"
      ]
     },
     "execution_count": 19,
     "metadata": {},
     "output_type": "execute_result"
    }
   ],
   "source": [
    "l"
   ]
  },
  {
   "cell_type": "code",
   "execution_count": 20,
   "id": "d69cdd9a",
   "metadata": {},
   "outputs": [],
   "source": [
    "l.append(23)"
   ]
  },
  {
   "cell_type": "code",
   "execution_count": 21,
   "id": "a13fc5b4",
   "metadata": {},
   "outputs": [
    {
     "data": {
      "text/plain": [
       "[1, 2, 3, 4, 5, 23]"
      ]
     },
     "execution_count": 21,
     "metadata": {},
     "output_type": "execute_result"
    }
   ],
   "source": [
    "l"
   ]
  },
  {
   "cell_type": "code",
   "execution_count": 22,
   "id": "004c982f",
   "metadata": {},
   "outputs": [],
   "source": [
    "l.insert(2,23)"
   ]
  },
  {
   "cell_type": "code",
   "execution_count": 23,
   "id": "8060d274",
   "metadata": {},
   "outputs": [
    {
     "data": {
      "text/plain": [
       "[1, 2, 23, 3, 4, 5, 23]"
      ]
     },
     "execution_count": 23,
     "metadata": {},
     "output_type": "execute_result"
    }
   ],
   "source": [
    "l"
   ]
  },
  {
   "cell_type": "markdown",
   "id": "2b1a64fc",
   "metadata": {},
   "source": [
    "##### 11. What are the two methods for removing items from a list?"
   ]
  },
  {
   "cell_type": "code",
   "execution_count": 24,
   "id": "e528b8ef",
   "metadata": {},
   "outputs": [],
   "source": [
    "# there are two methods from removing items from list one is pop() and another is remove().\n",
    "# pop() removes item from the tail position\n",
    "# remove() removes item which is  given by the user"
   ]
  },
  {
   "cell_type": "code",
   "execution_count": 25,
   "id": "9b85b28d",
   "metadata": {},
   "outputs": [
    {
     "data": {
      "text/plain": [
       "[1, 2, 23, 3, 4, 5, 23]"
      ]
     },
     "execution_count": 25,
     "metadata": {},
     "output_type": "execute_result"
    }
   ],
   "source": [
    "l"
   ]
  },
  {
   "cell_type": "code",
   "execution_count": 26,
   "id": "907445c9",
   "metadata": {},
   "outputs": [
    {
     "data": {
      "text/plain": [
       "23"
      ]
     },
     "execution_count": 26,
     "metadata": {},
     "output_type": "execute_result"
    }
   ],
   "source": [
    "l.pop()"
   ]
  },
  {
   "cell_type": "code",
   "execution_count": 27,
   "id": "adb8d6f3",
   "metadata": {},
   "outputs": [],
   "source": [
    "l.remove(23)"
   ]
  },
  {
   "cell_type": "code",
   "execution_count": 28,
   "id": "5c0c5eee",
   "metadata": {},
   "outputs": [
    {
     "data": {
      "text/plain": [
       "[1, 2, 3, 4, 5]"
      ]
     },
     "execution_count": 28,
     "metadata": {},
     "output_type": "execute_result"
    }
   ],
   "source": [
    "l"
   ]
  },
  {
   "cell_type": "markdown",
   "id": "6d7b8b29",
   "metadata": {},
   "source": [
    "##### 12. Describe how list values and string values are identical."
   ]
  },
  {
   "cell_type": "code",
   "execution_count": 29,
   "id": "f8444a8f",
   "metadata": {},
   "outputs": [
    {
     "data": {
      "text/plain": [
       "'The similarity between Lists and Strings in Python is that both are sequences. The differences between them are that firstly, Lists are mutable but Strings are immutable. Secondly, elements of a list can be of different types whereas a String only contains characters that are all of String type.'"
      ]
     },
     "execution_count": 29,
     "metadata": {},
     "output_type": "execute_result"
    }
   ],
   "source": [
    "\"\"\"The similarity between Lists and Strings in Python is that both are sequences. The differences between them are that firstly, Lists are mutable but Strings are immutable. Secondly, elements of a list can be of different types whereas a String only contains characters that are all of String type.\"\"\""
   ]
  },
  {
   "cell_type": "markdown",
   "id": "b796c7f4",
   "metadata": {},
   "source": [
    "##### 13. What&#39;s the difference between tuples and lists?"
   ]
  },
  {
   "cell_type": "code",
   "execution_count": 30,
   "id": "d6dcc295",
   "metadata": {},
   "outputs": [
    {
     "data": {
      "text/plain": [
       "'The key difference between the tuples and lists is that while the tuples are immutable objects the lists are mutable. This means that tuples cannot be changed while the lists can be modified. Tuples are more memory efficient than the lists.'"
      ]
     },
     "execution_count": 30,
     "metadata": {},
     "output_type": "execute_result"
    }
   ],
   "source": [
    "\"\"\"The key difference between the tuples and lists is that while the tuples are immutable objects the lists are mutable. This means that tuples cannot be changed while the lists can be modified. Tuples are more memory efficient than the lists.\"\"\""
   ]
  },
  {
   "cell_type": "markdown",
   "id": "87346e5a",
   "metadata": {},
   "source": [
    "##### 14. How do you type a tuple value that only contains the integer 42?\n"
   ]
  },
  {
   "cell_type": "code",
   "execution_count": 31,
   "id": "cd48ca65",
   "metadata": {},
   "outputs": [],
   "source": [
    "t = {42}"
   ]
  },
  {
   "cell_type": "code",
   "execution_count": 32,
   "id": "5a4d86e7",
   "metadata": {},
   "outputs": [
    {
     "data": {
      "text/plain": [
       "{42}"
      ]
     },
     "execution_count": 32,
     "metadata": {},
     "output_type": "execute_result"
    }
   ],
   "source": [
    "t"
   ]
  },
  {
   "cell_type": "markdown",
   "id": "8024db46",
   "metadata": {},
   "source": [
    "##### 15. How do you get a list value&#39;s tuple form? How do you get a tuple value&#39;s list form?"
   ]
  },
  {
   "cell_type": "code",
   "execution_count": 33,
   "id": "b725f4ce",
   "metadata": {},
   "outputs": [
    {
     "data": {
      "text/plain": [
       "\"List comprehension along with zip() function is used to convert the tuples to list and create a list of tuples. Python iter() function is used to iterate an element of an object at a time. The 'number' would specify the number of elements to be clubbed into a single tuple to form a list.\""
      ]
     },
     "execution_count": 33,
     "metadata": {},
     "output_type": "execute_result"
    }
   ],
   "source": [
    "\"\"\"List comprehension along with zip() function is used to convert the tuples to list and create a list of tuples. Python iter() function is used to iterate an element of an object at a time. The 'number' would specify the number of elements to be clubbed into a single tuple to form a list.\"\"\""
   ]
  },
  {
   "cell_type": "markdown",
   "id": "1e0ffabb",
   "metadata": {},
   "source": [
    "##### 16. Variables that &quot;contain&quot; list values are not necessarily lists themselves. Instead, what do they contain?"
   ]
  },
  {
   "cell_type": "code",
   "execution_count": 34,
   "id": "0900e456",
   "metadata": {},
   "outputs": [
    {
     "data": {
      "text/plain": [
       "'Variables will contain references to list values rather than list values themselves. But for strings and integer values, variables simply contain the string or integer value.'"
      ]
     },
     "execution_count": 34,
     "metadata": {},
     "output_type": "execute_result"
    }
   ],
   "source": [
    "\"\"\"Variables will contain references to list values rather than list values themselves. But for strings and integer values, variables simply contain the string or integer value.\"\"\""
   ]
  },
  {
   "cell_type": "markdown",
   "id": "22c5ae5c",
   "metadata": {},
   "source": [
    "##### 17. How do you distinguish between copy.copy() and copy.deepcopy()?"
   ]
  },
  {
   "cell_type": "code",
   "execution_count": 36,
   "id": "2bb6be80",
   "metadata": {},
   "outputs": [
    {
     "data": {
      "text/plain": [
       "'A shallow copy constructs a new compound object and then (to the extent possible) inserts references into it to the objects found in the original.'"
      ]
     },
     "execution_count": 36,
     "metadata": {},
     "output_type": "execute_result"
    }
   ],
   "source": [
    "\"\"\"A shallow copy constructs a new compound object and then (to the extent possible) inserts references into it to the objects found in the original.\"\"\""
   ]
  },
  {
   "cell_type": "code",
   "execution_count": 37,
   "id": "0767a9ca",
   "metadata": {},
   "outputs": [
    {
     "data": {
      "text/plain": [
       "'A deep copy constructs a new compound object and then, recursively, inserts copies into it of the objects found in the original.'"
      ]
     },
     "execution_count": 37,
     "metadata": {},
     "output_type": "execute_result"
    }
   ],
   "source": [
    "\"\"\"A deep copy constructs a new compound object and then, recursively, inserts copies into it of the objects found in the original.\"\"\""
   ]
  },
  {
   "cell_type": "code",
   "execution_count": null,
   "id": "e6d8be46",
   "metadata": {},
   "outputs": [],
   "source": []
  }
 ],
 "metadata": {
  "kernelspec": {
   "display_name": "Python 3 (ipykernel)",
   "language": "python",
   "name": "python3"
  },
  "language_info": {
   "codemirror_mode": {
    "name": "ipython",
    "version": 3
   },
   "file_extension": ".py",
   "mimetype": "text/x-python",
   "name": "python",
   "nbconvert_exporter": "python",
   "pygments_lexer": "ipython3",
   "version": "3.9.7"
  }
 },
 "nbformat": 4,
 "nbformat_minor": 5
}
