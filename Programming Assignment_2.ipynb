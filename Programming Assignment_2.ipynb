{
 "cells": [
  {
   "cell_type": "markdown",
   "id": "6aca16dd",
   "metadata": {},
   "source": [
    "##### 1. Write a Python program to convert kilometers to miles?"
   ]
  },
  {
   "cell_type": "code",
   "execution_count": 4,
   "id": "6a1bfd30",
   "metadata": {},
   "outputs": [
    {
     "name": "stdout",
     "output_type": "stream",
     "text": [
      "please enter kilometers you want in miles: 12\n",
      "equivalent miles:  7.4564520000000005\n"
     ]
    }
   ],
   "source": [
    "k = int(input(\"please enter kilometers you want in miles: \"))\n",
    "print(\"equivalent miles: \",k * .621371)"
   ]
  },
  {
   "cell_type": "markdown",
   "id": "a33ca2e1",
   "metadata": {},
   "source": [
    "##### 2. Write a Python program to convert Celsius to Fahrenheit?"
   ]
  },
  {
   "cell_type": "code",
   "execution_count": 5,
   "id": "2802e814",
   "metadata": {},
   "outputs": [
    {
     "name": "stdout",
     "output_type": "stream",
     "text": [
      "please enter celsius: 15\n",
      "equivalent Fahrenheit  59.0\n"
     ]
    }
   ],
   "source": [
    "c = int(input(\"please enter celsius: \"))\n",
    "print(\"equivalent Fahrenheit \",(c * 9/5) + 32)"
   ]
  },
  {
   "cell_type": "markdown",
   "id": "eda170a6",
   "metadata": {},
   "source": [
    "##### 3. Write a Python program to display calendar?"
   ]
  },
  {
   "cell_type": "code",
   "execution_count": 9,
   "id": "149e3de0",
   "metadata": {},
   "outputs": [
    {
     "name": "stdout",
     "output_type": "stream",
     "text": [
      "please enter year:  2022\n",
      "please enter month:  02\n",
      "   February 2022\n",
      "Mo Tu We Th Fr Sa Su\n",
      "    1  2  3  4  5  6\n",
      " 7  8  9 10 11 12 13\n",
      "14 15 16 17 18 19 20\n",
      "21 22 23 24 25 26 27\n",
      "28\n",
      "\n"
     ]
    }
   ],
   "source": [
    "import calendar\n",
    "y = int(input(\"please enter year:  \"))\n",
    "m = int(input(\"please enter month:  \"))\n",
    "print(calendar.month(y,m))"
   ]
  },
  {
   "cell_type": "markdown",
   "id": "2d303fa7",
   "metadata": {},
   "source": [
    "##### 4. Write a Python program to solve quadratic equation?\n"
   ]
  },
  {
   "cell_type": "code",
   "execution_count": 11,
   "id": "cea540ac",
   "metadata": {},
   "outputs": [
    {
     "name": "stdout",
     "output_type": "stream",
     "text": [
      "please enter coefficient of x²:  1\n",
      "please enter coefficient of x:   5\n",
      "please enter contant term:   6\n",
      "zeros of the given quadratic equation are -2.0  and  -3.0\n"
     ]
    }
   ],
   "source": [
    "a = int(input(\"please enter coefficient of x²:  \"))\n",
    "b = int(input(\"please enter coefficient of x:   \"))\n",
    "c = int(input(\"please enter contant term:   \"))\n",
    "D = (b * b) - (4 *a*c)\n",
    "x1 = (-b + (D** .5)) / 2*a\n",
    "x2 = (-b - (D** .5)) / 2*a\n",
    "print(\"zeros of the given quadratic equation are {}  and  {}\".format(x1,x2))"
   ]
  },
  {
   "cell_type": "markdown",
   "id": "de931126",
   "metadata": {},
   "source": [
    "##### 5. Write a Python program to swap two variables without temp variable?"
   ]
  },
  {
   "cell_type": "code",
   "execution_count": 12,
   "id": "f9720c54",
   "metadata": {},
   "outputs": [
    {
     "name": "stdout",
     "output_type": "stream",
     "text": [
      "enter value of 1st number:   12\n",
      "enter value of 2nd number:   15\n",
      "after swaping number value of 1st number is 15 and 2nd number 12\n"
     ]
    }
   ],
   "source": [
    "a = int(input(\"enter value of 1st number:   \"))\n",
    "b = int(input(\"enter value of 2nd number:   \"))\n",
    "a,b = b,a\n",
    "print(\"after swaping number value of 1st number is {} and 2nd number {}\".format(a,b))"
   ]
  },
  {
   "cell_type": "code",
   "execution_count": null,
   "id": "c5158bc7",
   "metadata": {},
   "outputs": [],
   "source": []
  }
 ],
 "metadata": {
  "kernelspec": {
   "display_name": "Python 3 (ipykernel)",
   "language": "python",
   "name": "python3"
  },
  "language_info": {
   "codemirror_mode": {
    "name": "ipython",
    "version": 3
   },
   "file_extension": ".py",
   "mimetype": "text/x-python",
   "name": "python",
   "nbconvert_exporter": "python",
   "pygments_lexer": "ipython3",
   "version": "3.9.7"
  }
 },
 "nbformat": 4,
 "nbformat_minor": 5
}
